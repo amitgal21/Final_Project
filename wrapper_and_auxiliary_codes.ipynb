{
  "nbformat": 4,
  "nbformat_minor": 0,
  "metadata": {
    "colab": {
      "provenance": [],
      "authorship_tag": "ABX9TyPomnvmFrECHKwYC8IU0zi8",
      "include_colab_link": true
    },
    "kernelspec": {
      "name": "python3",
      "display_name": "Python 3"
    },
    "language_info": {
      "name": "python"
    }
  },
  "cells": [
    {
      "cell_type": "markdown",
      "metadata": {
        "id": "view-in-github",
        "colab_type": "text"
      },
      "source": [
        "<a href=\"https://colab.research.google.com/github/amitgal21/Final_Project/blob/main/wrapper_and_auxiliary_codes.ipynb\" target=\"_parent\"><img src=\"https://colab.research.google.com/assets/colab-badge.svg\" alt=\"Open In Colab\"/></a>"
      ]
    },
    {
      "cell_type": "markdown",
      "source": [
        "In this section, we will showcase all the wrapper codes of our main codebase, such as image segmentation creation processes in image processing. Additionally, we'll include all the wrapper codes that aided us in optimizing time and generating valid inputs for the various architectures in our system."
      ],
      "metadata": {
        "id": "4NhrtYcCsHLP"
      }
    },
    {
      "cell_type": "markdown",
      "source": [
        "The code aims to calculate the percentage of bacteria in the image using image processing techniques. It's designed to analyze individual images in order to assess the results of the original algorithm we're using. We also need this code for small-scale results presentation purposes for our project book report."
      ],
      "metadata": {
        "id": "v2PwX5-Hs9lz"
      }
    },
    {
      "cell_type": "code",
      "source": [
        "from PIL import Image\n",
        "import numpy as np\n",
        "\n",
        "# Load the images\n",
        "image_paths = [\n",
        "    \"/content/drive/MyDrive/Part_B/DataSet1/Veionella/Veionella_0005.tif\",\n",
        "    \"/content/drive/MyDrive/Part_B/DataSet1/Veionella/Veionella_0006.tif\",\n",
        "    \"/content/drive/MyDrive/Part_B/DataSet1/Veionella/Veionella_0011.tif\"\n",
        "]\n",
        "\n",
        "# Function to calculate bacteria coverage in an image\n",
        "def calculate_bacteria_coverage(image_path):\n",
        "    image = Image.open(image_path)\n",
        "    image_gray = image.convert('L')  # Convert to grayscale\n",
        "    image_np = np.array(image_gray)\n",
        "\n",
        "    # Simple thresholding to separate bacteria from background\n",
        "    # Note: The threshold value might need adjustment based on the image characteristics\n",
        "    threshold = image_np.mean()\n",
        "    bacteria_pixels = image_np < threshold  # Assuming bacteria are darker than the background\n",
        "\n",
        "    bacteria_coverage = np.sum(bacteria_pixels) / bacteria_pixels.size * 100  # Calculate coverage percentage\n",
        "\n",
        "    return bacteria_coverage\n",
        "\n",
        "# Calculate bacteria coverage for each image\n",
        "bacteria_coverage_percentages = [calculate_bacteria_coverage(path) for path in image_paths]\n",
        "bacteria_coverage_percentages\n"
      ],
      "metadata": {
        "id": "8cr8qjfesH_F"
      },
      "execution_count": null,
      "outputs": []
    },
    {
      "cell_type": "markdown",
      "source": [
        "The purpose of this code is to display an original image followed by its corresponding segmentation image on the screen. We need this code so that we can use these images for the project report located in the Git repository folder."
      ],
      "metadata": {
        "id": "2ZmcRSvltHpv"
      }
    },
    {
      "cell_type": "code",
      "source": [
        "import matplotlib.pyplot as plt\n",
        "import matplotlib.image as mpimg\n",
        "\n",
        "# Define the paths of the images\n",
        "image_path1 = '/content/drive/MyDrive/Part_B/Datset3/Learn/Acinetobacter.baumanii/Acinetobacter.baumanii_0001.tif'\n",
        "image_path2 = '/content/drive/MyDrive/Part_B/Datset3/Learn/Acinetobacter.baumanii/Acinetobacter.baumanii_0001_segmentation.tif'\n",
        "\n",
        "# Load the images\n",
        "img1 = mpimg.imread(image_path1)\n",
        "img2 = mpimg.imread(image_path2)\n",
        "\n",
        "# Create figure and subplot axes\n",
        "fig, axes = plt.subplots(1, 2, figsize=(12, 6))  # 1 row, 2 columns, figure size\n",
        "\n",
        "# Display the first image with a title\n",
        "axes[0].imshow(img1)\n",
        "axes[0].set_title('Original Image')\n",
        "axes[0].axis('off')  # Remove the x and y axes\n",
        "\n",
        "# Display the second image with a title\n",
        "axes[1].imshow(img2)\n",
        "axes[1].set_title('Segmentation Image')\n",
        "axes[1].axis('off')  # Remove the x and y axes\n",
        "\n",
        "plt.show()\n"
      ],
      "metadata": {
        "id": "GsZfBiZIs-rS"
      },
      "execution_count": null,
      "outputs": []
    },
    {
      "cell_type": "markdown",
      "source": [
        "the function apply_otsu_threshold takes a path to an image as input. It loads the image, converts it to grayscale, and then applies Otsu's thresholding algorithm to perform segmentation, which identifies the boundary of objects in the image. Once done, the function returns the resulting segmented image. Additionally, the segmented image serves as essential input for the U-Net architecture that we utilize in our project."
      ],
      "metadata": {
        "id": "jq_k0PE6t6fV"
      }
    },
    {
      "cell_type": "code",
      "source": [
        "#create for soruce image -> segmantation image\n",
        "import cv2\n",
        "import os\n",
        "\n",
        "def apply_otsu_threshold(image_path):\n",
        "    # Load the image and convert it to grayscale\n",
        "    image = cv2.imread(image_path)\n",
        "    if image is None:\n",
        "        print(f\"Error loading image: {image_path}\")\n",
        "        return None  # Return None or handle the error as appropriate\n",
        "    gray = cv2.cvtColor(image, cv2.COLOR_BGR2GRAY)\n",
        "    # Apply Otsu's thresholding algorithm for segmentation\n",
        "    _, thresholded = cv2.threshold(gray, 0, 255, cv2.THRESH_BINARY + cv2.THRESH_OTSU)\n",
        "    return thresholded\n",
        "\n",
        "def process_directory(directory_path):\n",
        "    # Iterate over all files and directories in the path\n",
        "    for root, dirs, files in os.walk(directory_path):\n",
        "        for file in files:\n",
        "            # Check if the file is an image (e.g., in .jpg, .png format)\n",
        "            if file.lower().endswith(('.png', '.jpg', '.jpeg', '.tif', '.tiff')):\n",
        "                image_path = os.path.join(root, file)\n",
        "                # Process the image\n",
        "                segmented_image = apply_otsu_threshold(image_path)\n",
        "                if segmented_image is not None:  # Check if image processing was successful\n",
        "                    # Define a new file name with \"_segmentation\" suffix\n",
        "                    new_file_name = os.path.splitext(file)[0] + \"_segmentation\" + os.path.splitext(file)[1]\n",
        "                    new_image_path = os.path.join(root, new_file_name)\n",
        "                    # Save the processed image\n",
        "                    cv2.imwrite(new_image_path, segmented_image)\n",
        "                    print(f\"Saved segmented image to {new_image_path}\")\n",
        "\n",
        "directory_path = '/content/drive/MyDrive/Part_B/Datset3/Learn'\n",
        "process_directory(directory_path)\n"
      ],
      "metadata": {
        "id": "W2ou4rbWt9yW"
      },
      "execution_count": null,
      "outputs": []
    },
    {
      "cell_type": "markdown",
      "source": [
        "The purpose of this code snippet is to delete the segmentation images from the drive, saving us a lot of manual work.\n"
      ],
      "metadata": {
        "id": "8Uj3aXaiu8Mt"
      }
    },
    {
      "cell_type": "code",
      "source": [
        "#delete images segmentation from drive\n",
        "import os\n",
        "\n",
        "def delete_segmentation_images(directory_path):\n",
        "    for root, dirs, files in os.walk(directory_path):\n",
        "        for file in files:\n",
        "            # Check if the file name contains \"_segmentation\"\n",
        "            if '_segmentation' in file:\n",
        "                # Construct the full path to the file\n",
        "                file_path = os.path.join(root, file)\n",
        "                # Delete the file\n",
        "                os.remove(file_path)\n",
        "                print(f\"Deleted {file_path}\")\n",
        "\n",
        "# Define the path where you want to perform the deletion\n",
        "directory_path = '/content/drive/MyDrive/Part_B/Datset3/Learn'\n",
        "delete_segmentation_images(directory_path)\n"
      ],
      "metadata": {
        "id": "YrVk83dcuaOG"
      },
      "execution_count": null,
      "outputs": []
    }
  ]
}