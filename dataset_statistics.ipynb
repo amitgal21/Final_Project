{
  "nbformat": 4,
  "nbformat_minor": 0,
  "metadata": {
    "colab": {
      "provenance": [],
      "authorship_tag": "ABX9TyMAHuefqwn4sKl+ak3Ow1hn",
      "include_colab_link": true
    },
    "kernelspec": {
      "name": "python3",
      "display_name": "Python 3"
    },
    "language_info": {
      "name": "python"
    }
  },
  "cells": [
    {
      "cell_type": "markdown",
      "metadata": {
        "id": "view-in-github",
        "colab_type": "text"
      },
      "source": [
        "<a href=\"https://colab.research.google.com/github/amitgal21/Final_Project/blob/main/dataset_statistics.ipynb\" target=\"_parent\"><img src=\"https://colab.research.google.com/assets/colab-badge.svg\" alt=\"Open In Colab\"/></a>"
      ]
    },
    {
      "cell_type": "markdown",
      "source": [
        "At this stage, we present all the code snippets that generate statistics for our dataset. The operations here are conducted using the data extracted from our segmentation codes. We utilize image processing algorithms with well-known libraries such as NumPy, Keras, scikit-learn, JSON, and others.\n"
      ],
      "metadata": {
        "id": "MmtLdYXOmj4v"
      }
    },
    {
      "cell_type": "code",
      "execution_count": null,
      "metadata": {
        "id": "b5bGjo-XmYGO"
      },
      "outputs": [],
      "source": [
        "from google.colab import drive\n",
        "drive.mount('/content/drive')\n",
        "#connect to drive for load our data set and our results files"
      ]
    },
    {
      "cell_type": "markdown",
      "source": [
        "The purpose of the code is to calculate the percentage of bacterial area in grayscale images relative to the total area of the image using image processing techniques. This allows us to determine the ratio between the bacterial area and the total area of the image, thus estimating the quantity and size of bacteria present in the image."
      ],
      "metadata": {
        "id": "V6MtA-bbn_j2"
      }
    },
    {
      "cell_type": "code",
      "source": [
        "#code that provide percentage of the bacterial area relative to the total area\n",
        "import cv2\n",
        "import numpy as np\n",
        "import os\n",
        "\n",
        "def calculate_bacterial_area_percentage(image_path):\n",
        "    # Load the image in grayscale\n",
        "    image = cv2.imread(image_path, cv2.IMREAD_GRAYSCALE)\n",
        "    if image is None:\n",
        "        print(f\"Error loading image: {image_path}\")\n",
        "        return\n",
        "\n",
        "    # Calculate the total area of the image\n",
        "    total_area = image.size\n",
        "\n",
        "    # Calculate the area of the bacteria (white pixels)\n",
        "    bacterial_area = np.sum(image == 255)\n",
        "\n",
        "    # Calculate the percentage of the bacterial area relative to the total area\n",
        "    bacterial_area_percentage = (bacterial_area / total_area) * 100\n",
        "\n",
        "    print(f\"Bacterial area percentage in {os.path.basename(image_path)}: {bacterial_area_percentage:.2f}%\")\n",
        "\n",
        "def process_directory_recursively(directory_path):\n",
        "    # Process each file and directory within the provided path\n",
        "    for root, dirs, files in os.walk(directory_path):\n",
        "        for file in files:\n",
        "            if \"_segmentation\" in file and file.lower().endswith(('.png', '.jpg', '.jpeg', '.tif', '.tiff')):\n",
        "                image_path = os.path.join(root, file)\n",
        "                calculate_bacterial_area_percentage(image_path)\n",
        "\n",
        "# Run the function on the directory containing the segmented images\n",
        "directory_path = '/content/drive/MyDrive/Part_B/Datset3/Learn'\n",
        "process_directory_recursively(directory_path)\n"
      ],
      "metadata": {
        "id": "je4oqSzunXgO"
      },
      "execution_count": null,
      "outputs": []
    },
    {
      "cell_type": "markdown",
      "source": [
        "\n",
        "The provided code calculates the contrast of images in grayscale by computing the standard deviation of pixel intensities. It then recursively processes a directory, considering only common image formats. The contrast values are stored in a list and used to create a histogram using Matplotlib.\n",
        "\n",
        "This code segment allows analysis of the distribution of contrast within the dataset and provides insights into variations in contrast among different images."
      ],
      "metadata": {
        "id": "IyM8IVLioMX8"
      }
    },
    {
      "cell_type": "code",
      "source": [
        "import cv2\n",
        "import numpy as np\n",
        "import os\n",
        "import matplotlib.pyplot as plt\n",
        "\n",
        "def calculate_image_contrast(image_path):\n",
        "    # Load the image in grayscale\n",
        "    image = cv2.imread(image_path, cv2.IMREAD_GRAYSCALE)\n",
        "    if image is None:\n",
        "        print(f\"Error loading image: {image_path}\")\n",
        "        return None\n",
        "    # Calculate the standard deviation of pixel intensities, which represents contrast\n",
        "    contrast = np.std(image)\n",
        "    return contrast\n",
        "\n",
        "def process_directory_recursively_for_contrast(directory_path):\n",
        "    contrast_values = []  # List to collect contrast values\n",
        "    # Recursively process each file and directory within the provided path\n",
        "    for root, dirs, files in os.walk(directory_path):\n",
        "        for file in files:\n",
        "            # Exclude images with \"_segmentation\" in the filename and only process common image formats\n",
        "            if \"_segmentation\" not in file and file.lower().endswith(('.png', '.jpg', '.jpeg', '.tif', '.tiff')):\n",
        "                image_path = os.path.join(root, file)\n",
        "                contrast = calculate_image_contrast(image_path)\n",
        "                if contrast is not None:\n",
        "                    contrast_values.append(contrast)\n",
        "    return contrast_values\n",
        "\n",
        "# Update the directory path to your images location\n",
        "directory_path = '/content/drive/MyDrive/Part_B/Datset3/Learn'\n",
        "contrast_values = process_directory_recursively_for_contrast(directory_path)\n",
        "\n",
        "# Create a histogram of the contrast values\n",
        "plt.hist(contrast_values, bins=20, color='blue', edgecolor='black')\n",
        "plt.title('Histogram of Image Contrast')\n",
        "plt.xlabel('Contrast Value')\n",
        "plt.ylabel('Frequency')\n",
        "plt.show()\n"
      ],
      "metadata": {
        "id": "Lp4QN8aYoLB4"
      },
      "execution_count": null,
      "outputs": []
    },
    {
      "cell_type": "markdown",
      "source": [
        "\n",
        "The code calculates the percentage of bacterial area covered in an image when it's in grayscale, by counting the number of white pixels (representing bacteria) and dividing it by the total number of pixels in the image. It recursively traverses each folder in the provided directory and performs the calculations only on images in valid formats that are not marked as segmentation images. The percentages of bacterial area calculated are then used to create a histogram using the Matplotlib library."
      ],
      "metadata": {
        "id": "8Dmqd6UkonYN"
      }
    },
    {
      "cell_type": "code",
      "source": [
        "import cv2\n",
        "import numpy as np\n",
        "import os\n",
        "import matplotlib.pyplot as plt\n",
        "\n",
        "def calculate_bacterial_area_percentage(image_path):\n",
        "    # Load the image in grayscale\n",
        "    image = cv2.imread(image_path, cv2.IMREAD_GRAYSCALE)\n",
        "    if image is None:\n",
        "        print(f\"Error loading image: {image_path}\")\n",
        "        return None\n",
        "\n",
        "    # Calculate the total area of the image\n",
        "    total_area = image.size\n",
        "\n",
        "    # Calculate the area of the bacteria (white pixels)\n",
        "    bacterial_area = np.sum(image == 255)\n",
        "\n",
        "    # Calculate the percentage of the bacterial area relative to the total area\n",
        "    bacterial_area_percentage = (bacterial_area / total_area) * 100\n",
        "\n",
        "    return bacterial_area_percentage\n",
        "\n",
        "def process_directory_recursively(directory_path):\n",
        "    bacterial_area_percentages = []\n",
        "\n",
        "    # Process each file and directory within the provided path\n",
        "    for root, dirs, files in os.walk(directory_path):\n",
        "        for file in files:\n",
        "            if \"_segmentation\" in file and file.lower().endswith(('.png', '.jpg', '.jpeg', '.tif', '.tiff')):\n",
        "                image_path = os.path.join(root, file)\n",
        "                percentage = calculate_bacterial_area_percentage(image_path)\n",
        "                if percentage is not None:\n",
        "                    bacterial_area_percentages.append(percentage)\n",
        "\n",
        "    # After collecting all percentages, plot the histogram\n",
        "    plt.hist(bacterial_area_percentages, bins=20, color='blue', alpha=0.7)\n",
        "    plt.title('Distribution of Bacterial Area Percentages')\n",
        "    plt.xlabel('Bacterial Area Percentage')\n",
        "    plt.ylabel('Frequency')\n",
        "    plt.show()\n",
        "\n",
        "# Example directory path\n",
        "directory_path = '/content/drive/MyDrive/Part_B/Datset3/Learn'\n",
        "process_directory_recursively(directory_path)\n"
      ],
      "metadata": {
        "id": "tcIgOCwvomA2"
      },
      "execution_count": null,
      "outputs": []
    },
    {
      "cell_type": "markdown",
      "source": [
        "\n",
        "The provided code performs texture correlation analysi.It calculates the texture correlation for each image using the Gray Level Co-occurrence Matrix (GLCM) method and stores the results in a DataFrame. Finally, it saves this DataFrame to a CSV file.\n",
        "\n",
        "\n",
        "\n",
        "\n",
        "\n"
      ],
      "metadata": {
        "id": "C27SWvVOqFYO"
      }
    },
    {
      "cell_type": "code",
      "source": [
        "\n",
        "from google.colab import drive\n",
        "drive.mount('/content/drive')\n",
        "\n",
        "# Import the necessary libraries\n",
        "import os\n",
        "from skimage import io, color  # For image loading and conversion\n",
        "from skimage.feature import greycomatrix, greycoprops  # For texture analysis\n",
        "import pandas as pd  # For data manipulation and saving\n",
        "\n",
        "# Function to calculate the texture correlation of an image\n",
        "def calculate_correlation(image_path):\n",
        "    # Load the image from the specified path\n",
        "    image = io.imread(image_path)\n",
        "\n",
        "    # If the image is colored, convert it to grayscale\n",
        "    if len(image.shape) > 2:\n",
        "        gray_image = color.rgb2gray(image)\n",
        "    else:\n",
        "        # If already in grayscale, normalize the pixel values\n",
        "        gray_image = image / 255.0\n",
        "\n",
        "    # Convert grayscale image to uint8, required for GLCM calculation\n",
        "    gray_image = (gray_image * 255).astype('uint8')\n",
        "\n",
        "    # Calculate the GLCM and the correlation property\n",
        "    glcm = greycomatrix(gray_image, distances=[1], angles=[0], levels=256, symmetric=True, normed=True)\n",
        "    correlation = greycoprops(glcm, 'correlation')[0, 0]\n",
        "    return correlation\n",
        "\n",
        "# Function to process multiple images in a directory and calculate their texture correlation\n",
        "def process_images(directory_path):\n",
        "    \"\"\"\n",
        "    Processes a directory of images, calculating and collecting their texture correlation values.\n",
        "    \"\"\"\n",
        "    data = []  # Initialize a list to hold the correlation data\n",
        "\n",
        "    # Walk through the directory, accessing each image file\n",
        "    for root, dirs, files in os.walk(directory_path):\n",
        "        for file in files:\n",
        "            if file.lower().endswith(('.png', '.jpg', '.jpeg', '.tif', '.tiff')):\n",
        "                full_path = os.path.join(root, file)  # Get the full image path\n",
        "                try:\n",
        "                    # Calculate the correlation for each image\n",
        "                    correlation = calculate_correlation(full_path)\n",
        "                    data.append({'Image': full_path, 'Correlation': correlation})\n",
        "                except Exception as e:\n",
        "                    print(f\"Error processing {full_path}: {e}\")\n",
        "\n",
        "    # Convert the list of data into a DataFrame for analysis and storage\n",
        "    df = pd.DataFrame(data)\n",
        "    return df\n",
        "\n",
        "# Specify the directory path containing the images to be processed\n",
        "directory_path = '/content/drive/MyDrive/Part_B/Datset3/Learn'\n",
        "\n",
        "# Process the images and obtain the DataFrame with correlations\n",
        "df = process_images(directory_path)\n",
        "\n",
        "# Define the path for saving the DataFrame as a CSV file\n",
        "csv_path = '/content/drive/My Drive/image_correlations.csv'\n",
        "df.to_csv(csv_path, index=False)  # Save the DataFrame to CSV\n",
        "print(f\"Saved the correlation data to {csv_path}\")  # Confirmation message\n"
      ],
      "metadata": {
        "id": "G7l9Eqagptxx"
      },
      "execution_count": null,
      "outputs": []
    },
    {
      "cell_type": "code",
      "source": [
        "import pandas as pd\n",
        "import matplotlib.pyplot as plt\n",
        "\n",
        "# Read the CSV file into a DataFrame\n",
        "df = pd.read_csv('/content/drive/My Drive/image_correlations.csv')\n",
        "\n",
        "# Create a histogram of correlation values\n",
        "plt.figure(figsize=(10, 6))\n",
        "plt.hist(df['Correlation'], bins=30, color='blue', alpha=0.7)\n",
        "plt.title('Distribution of Texture Correlation in Images')\n",
        "plt.xlabel('Correlation')\n",
        "plt.ylabel('Frequency')\n",
        "plt.grid(True)\n",
        "plt.show()"
      ],
      "metadata": {
        "id": "YU7jI_2FqU9i"
      },
      "execution_count": null,
      "outputs": []
    }
  ]
}